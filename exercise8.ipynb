{
 "cells": [
  {
   "cell_type": "code",
   "execution_count": 71,
   "metadata": {},
   "outputs": [
    {
     "name": "stdout",
     "output_type": "stream",
     "text": [
      "Enter first number: 1\n",
      "Enter second number: 2\n",
      "Enter third number: 3\n",
      "The numbers are unequal and sum is :  6\n"
     ]
    }
   ],
   "source": [
    "#sum using function\n",
    "num1=int(input(\"Enter first number: \"))\n",
    "num2=int(input(\"Enter second number: \"))\n",
    "num3=int(input(\"Enter third number: \"))\n",
    "\n",
    "def sss(x,y,z):\n",
    "    s=x+y+z\n",
    "    s2='NILL'\n",
    "   \n",
    "    if x==y==z:\n",
    "        s2=3*s\n",
    "    return (s,s2) \n",
    "\n",
    "\n",
    "r1,r2=sss(num1,num2,num3)   \n",
    "if r2=='NILL':\n",
    "    print(\"The numbers are unequal and sum is : \",r1) \n",
    "else:\n",
    "    print(\"Numbers are equal ,the sum is: \",r1,\"and thrice of sum is:  \",r2)"
   ]
  },
  {
   "cell_type": "code",
   "execution_count": 68,
   "metadata": {},
   "outputs": [
    {
     "name": "stdout",
     "output_type": "stream",
     "text": [
      "Enter a number: 555\n",
      "The sum of digits is : 15\n"
     ]
    }
   ],
   "source": [
    "#sum of digits of number\n",
    "num=input(\"Enter a number: \")\n",
    "\n",
    "def sd(x):\n",
    "    temp=x\n",
    "    s=0\n",
    "    for i in temp:\n",
    "        s=s+int(i)\n",
    "    return s\n",
    "s1=sd(num)    \n",
    "print(\"The sum of digits is :\",s1)    \n",
    "    \n"
   ]
  },
  {
   "cell_type": "code",
   "execution_count": 53,
   "metadata": {},
   "outputs": [
    {
     "name": "stdout",
     "output_type": "stream",
     "text": [
      "Enter a string: MoHaNlAl\n",
      "Number of uppercase are: 4\n",
      "Number of lowercase are: 4\n"
     ]
    }
   ],
   "source": [
    "#number of uppercase and lowercase of a word\n",
    "x=input(\"Enter a string: \")\n",
    "\n",
    "def ul(x):\n",
    "    u=l=0\n",
    "    for x in x:\n",
    "        if x.isupper()==1:\n",
    "            u=u+1\n",
    "        else:\n",
    "            l=l+1\n",
    "   \n",
    "    return(u,l)\n",
    "up,lw=ul(x)\n",
    "print(\"Number of uppercase are:\",up)\n",
    "print(\"Number of lowercase are:\",lw)\n",
    "            \n",
    "            \n",
    "            \n",
    "            \n",
    "            \n",
    "            \n",
    "            "
   ]
  },
  {
   "cell_type": "code",
   "execution_count": 72,
   "metadata": {},
   "outputs": [
    {
     "name": "stdout",
     "output_type": "stream",
     "text": [
      "Enter a number(>2): 10\n",
      " IS NOT PRIME...\n"
     ]
    }
   ],
   "source": [
    "#check prime or not\n",
    "import math\n",
    "n=int(input(\"Enter a number(>2): \"))\n",
    "f=1\n",
    "def prime(num):\n",
    "    \n",
    "    for i in range(2,int(math.sqrt(num)+1)):\n",
    "        if num%i==0:\n",
    "            return 1\n",
    "    return 0\n",
    "f=prime(n)\n",
    "if f==1:\n",
    "    print(\" IS NOT PRIME...\")\n",
    "else:\n",
    "    print(\"IS PRIME...\")\n",
    "    "
   ]
  },
  {
   "cell_type": "code",
   "execution_count": 45,
   "metadata": {},
   "outputs": [
    {
     "name": "stdout",
     "output_type": "stream",
     "text": [
      "Enter current year: 2021\n",
      "Enter limit of year: 2040\n",
      "The leap years in the range are: \n",
      "2024 ,2028 ,2032 ,2036 ,2040 ,"
     ]
    }
   ],
   "source": [
    "#cleap yrs in a range\n",
    "a=int(input(\"Enter current year: \"))\n",
    "b=int(input(\"Enter limit of year: \"))\n",
    "def leap(l,u):\n",
    "    for i in range(l,u+1):\n",
    "        if i%4==0:\n",
    "            if i%100==0:\n",
    "                if i%400==0:\n",
    "                    print(i,\",\",end=\"\")\n",
    "            print(i,\",\",end=\"\")\n",
    "print(\"The leap years in the range are: \")\n",
    "leap(a,b)\n"
   ]
  },
  {
   "cell_type": "code",
   "execution_count": null,
   "metadata": {},
   "outputs": [],
   "source": [
    "#employee name salary\n",
    "\n",
    "def showEmployee(empname,sal=8000):\n",
    "    print(\"The inputed Employee name is \",empname,\" and his salary is \",sal)\n",
    "n=int(input(\"Enter number of employees : \"))\n",
    "for i in range(n):\n",
    "    name=input(\"Enter name of employee: \")\n",
    "    salary=int(input(\"Enter salary of employee: \"))\n",
    "    if salary <= 5000:\n",
    "         showEmployee(name)\n",
    "    else:    \n",
    "        showEmployee(name,salary)        "
   ]
  },
  {
   "cell_type": "code",
   "execution_count": 4,
   "metadata": {},
   "outputs": [
    {
     "name": "stdout",
     "output_type": "stream",
     "text": [
      "Enter the number of values: 3\n",
      "Enter value: 6\n",
      "Enter value: 4\n",
      "Enter value: 3\n",
      "Minimum of entered items:  3\n"
     ]
    }
   ],
   "source": [
    "#min of argument values\n",
    "l=[]\n",
    "def minvalue(*tup):\n",
    "    \n",
    "    print(\"Minimum of entered items: \",min(tup))\n",
    "   \n",
    "n=int(input(\"Enter the number of values: \"))\n",
    "i=0\n",
    "for i in range(n):\n",
    "    k=int(input(\"Enter value: \"))\n",
    "    l.append(k)\n",
    "x=tuple(l)    \n",
    "minvalue(*x)   \n",
    "\n",
    "    \n",
    "\n",
    "    "
   ]
  },
  {
   "cell_type": "code",
   "execution_count": 8,
   "metadata": {},
   "outputs": [
    {
     "name": "stdout",
     "output_type": "stream",
     "text": [
      "Enter number of persons : 2\n",
      "Details for person: 1\n",
      "Enter number of information you wish to provide: 2\n",
      "Enter any type of info: name\n",
      "Enter its value: ghanasyam\n",
      "Enter any type of info: age\n",
      "Enter its value: 23\n",
      "{'name': 'ghanasyam', 'age': '23'}\n",
      "\n",
      "\n",
      "Details for person: 2\n",
      "Enter number of information you wish to provide: 3\n",
      "Enter any type of info: name\n",
      "Enter its value: sachin\n",
      "Enter any type of info: game\n",
      "Enter its value: cricket\n",
      "Enter any type of info: place\n",
      "Enter its value: mumbai\n",
      "{'name': 'sachin', 'game': 'cricket', 'place': 'mumbai'}\n",
      "\n",
      "\n"
     ]
    }
   ],
   "source": [
    "#userinfo\n",
    "\n",
    "def uinfo(**d1):\n",
    "    print(d1)\n",
    "    d.clear()\n",
    "    print(\"\\n\")\n",
    "    \n",
    "    \n",
    "d={}\n",
    "n=int(input(\"Enter number of persons : \"))\n",
    "for i in range(n):\n",
    "    print(\"Details for person:\",i+1)\n",
    "    n2=int(input(\"Enter number of information you wish to provide: \"))\n",
    "    for j in range(n2):\n",
    "        key=input(\"Enter any type of info: \")\n",
    "        val=input(\"Enter its value: \")\n",
    "        d.update({key:val})\n",
    "    uinfo(**d)    \n",
    "    "
   ]
  },
  {
   "cell_type": "code",
   "execution_count": null,
   "metadata": {
    "collapsed": true
   },
   "outputs": [],
   "source": []
  },
  {
   "cell_type": "code",
   "execution_count": null,
   "metadata": {
    "collapsed": true
   },
   "outputs": [],
   "source": []
  }
 ],
 "metadata": {
  "kernelspec": {
   "display_name": "Python 3",
   "language": "python",
   "name": "python3"
  },
  "language_info": {
   "codemirror_mode": {
    "name": "ipython",
    "version": 3
   },
   "file_extension": ".py",
   "mimetype": "text/x-python",
   "name": "python",
   "nbconvert_exporter": "python",
   "pygments_lexer": "ipython3",
   "version": "3.6.3"
  }
 },
 "nbformat": 4,
 "nbformat_minor": 2
}
