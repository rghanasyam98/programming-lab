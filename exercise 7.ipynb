{
 "cells": [
  {
   "cell_type": "code",
   "execution_count": 9,
   "metadata": {},
   "outputs": [
    {
     "name": "stdout",
     "output_type": "stream",
     "text": [
      "Enter some coma separated list of integers: -1,-2,1,2\n",
      "The list of positive values is:  [1, 2]\n"
     ]
    }
   ],
   "source": [
    "#1a positive list of  numbers from a given list of integers\n",
    "l=list(map(int,input(\"Enter some coma separated list of integers: \").split(\",\")))\n",
    "rest=[x for x in l if x>0]\n",
    "print(\"The list of positive values is: \",rest)\n",
    "\n",
    "\n",
    "\n",
    "\n",
    "\n",
    "\n",
    "\n",
    "\n"
   ]
  },
  {
   "cell_type": "code",
   "execution_count": 10,
   "metadata": {},
   "outputs": [
    {
     "name": "stdout",
     "output_type": "stream",
     "text": [
      "Enter some coma separated list of integers : 1,2,3,4,5\n",
      "The Result list of squares :  [1, 4, 9, 16, 25]\n"
     ]
    }
   ],
   "source": [
    "#1b square of n numbers\n",
    "l=list(map(int,input(\"Enter some coma separated list of integers : \").split(\",\")))\n",
    "rest=[x*x for x in l]\n",
    "print(\"The Result list of squares : \",rest)\n",
    "\n"
   ]
  },
  {
   "cell_type": "code",
   "execution_count": 11,
   "metadata": {},
   "outputs": [
    {
     "name": "stdout",
     "output_type": "stream",
     "text": [
      "Enter a word : sachin tendulkar\n",
      "The Result list of vowels :  ['a', 'i', 'e', 'u']\n"
     ]
    }
   ],
   "source": [
    "#vowels of given word\n",
    "w=input(\"Enter a word : \")\n",
    "rest=[]\n",
    "rest=[x for x in w if x in ['a','e','i','o','u','A','E','I','O','U']]\n",
    "temp=[]\n",
    "for i in rest:\n",
    "   if i not in temp:\n",
    "        temp.append(i)\n",
    " \n",
    "print(\"The Result list of vowels : \",temp)\n",
    "\n",
    "\n",
    "\n",
    "\n"
   ]
  },
  {
   "cell_type": "code",
   "execution_count": 2,
   "metadata": {},
   "outputs": [
    {
     "name": "stdout",
     "output_type": "stream",
     "text": [
      "Enter any word: tom\n",
      "The required list of ordinal values of characters of entered word  tom  is :  [116, 111, 109]\n"
     ]
    }
   ],
   "source": [
    "#ordinal values of the letters of a word\n",
    "word=input(\"Enter any word: \")\n",
    "l=list(word)\n",
    "o=[ord(x) for x in l]\n",
    "print(\"The required list of ordinal values of characters of entered word \",word,\" is : \",o)"
   ]
  },
  {
   "cell_type": "code",
   "execution_count": 3,
   "metadata": {},
   "outputs": [
    {
     "name": "stdout",
     "output_type": "stream",
     "text": [
      "Enter some coma separated integers: 1,11,111,1111\n",
      "The required list is:  [1, 11, 'over', 'over']\n"
     ]
    }
   ],
   "source": [
    "#numbers exeeding 100 to over\n",
    "l=list(map(int,input(\"Enter some coma separated integers: \").split(\",\")))\n",
    "for i in range(len(l)):\n",
    "    if l[i]>100:\n",
    "        l[i]=\"over\"\n",
    "print(\"The required list is: \",l)\n"
   ]
  },
  {
   "cell_type": "code",
   "execution_count": 4,
   "metadata": {},
   "outputs": [
    {
     "name": "stdout",
     "output_type": "stream",
     "text": [
      "Enter some coma separated first names: mohanlal,dileep,sachin\n",
      "Numbers of a in  mohanlal  is :  2\n",
      "Numbers of a in  dileep  is :  0\n",
      "Numbers of a in  sachin  is :  1\n",
      "Total number of a in entered list is:  3\n"
     ]
    }
   ],
   "source": [
    "#count of a with in the list\n",
    "name=input(\"Enter some coma separated first names: \")\n",
    "l=name.split(\",\")\n",
    "t=0\n",
    "for x in l:\n",
    "    print(\"Numbers of a in \",x,\" is : \",x.count(\"a\"))\n",
    "    t=t+x.count(\"a\")\n",
    "print(\"Total number of a in entered list is: \",t)\n"
   ]
  },
  {
   "cell_type": "code",
   "execution_count": 7,
   "metadata": {},
   "outputs": [
    {
     "name": "stdout",
     "output_type": "stream",
     "text": [
      "Enter some coma separated integers for list1: 1,2,3\n",
      "Enter some coma separated integers for list2: 2,3,4\n",
      "Both list have same legth and length is :  3\n",
      "Both list have different sum..\n",
      "The common items are :  [2, 3]\n"
     ]
    }
   ],
   "source": [
    "l1=list(map(int,input(\"Enter some coma separated integers for list1: \").split(\",\")))\n",
    "l2=list(map(int,input(\"Enter some coma separated integers for list2: \").split(\",\")))\n",
    "if len(l1)==len(l2):\n",
    "    print(\"Both list have same legth and length is : \",len(l1))\n",
    "else:\n",
    "    print(\"Both the lists have different length\")\n",
    "if sum(l1)==sum(l2):\n",
    "    print(\"Both list have same sum and sum is : \",sum(l1))\n",
    "else:\n",
    "    print(\"Both list have different sum..\")\n",
    "k=[x for x in l1 if x  in l2] \n",
    "if len(k)!=0:\n",
    "    print(\"The common items are : \",k)\n",
    "else:\n",
    "    print(\"Nothing common both the lists...\")\n",
    "\n",
    "\n",
    "\n",
    "\n",
    "\n"
   ]
  },
  {
   "cell_type": "code",
   "execution_count": 8,
   "metadata": {},
   "outputs": [
    {
     "name": "stdout",
     "output_type": "stream",
     "text": [
      "Enter some coma separated integers: 1,2,3,4,5,6,7,8\n",
      "The required list of odd elements is :  [1, 3, 5, 7]\n"
     ]
    }
   ],
   "source": [
    "#removing even numbers from a list\n",
    "l=list(map(int,input(\"Enter some coma separated integers: \").split(\",\")))\n",
    "k=[x for x in l if (x%2!=0)]\n",
    "print(\"The required list of odd elements is : \",k)"
   ]
  },
  {
   "cell_type": "code",
   "execution_count": 1,
   "metadata": {},
   "outputs": [
    {
     "name": "stdout",
     "output_type": "stream",
     "text": [
      "Enter the number of elements: 3\n",
      "Enter  key: a\n",
      "Enter value10\n",
      "Enter  key: b\n",
      "Enter value5\n",
      "Enter  key: c\n",
      "Enter value20\n",
      "The dictionary values in ascending order:  ['10', '20', '5']\n",
      "The dictionary values in descending order:  ['5', '20', '10']\n"
     ]
    }
   ],
   "source": [
    "#to sort a dictionory\n",
    "d={}\n",
    "l=[]\n",
    "n=int(input(\"Enter the number of elements: \"))\n",
    "for i in range(n):\n",
    "    key=input(\"Enter  key: \")\n",
    "    value=input(\"Enter value\")\n",
    "    d.update({key:value})\n",
    "l=sorted(d.values())\n",
    "l2=sorted(d.values(),reverse=True)\n",
    "\n",
    "print(\"The dictionary values in ascending order: \",l[0:])\n",
    "print(\"The dictionary values in descending order: \",l2)"
   ]
  },
  {
   "cell_type": "code",
   "execution_count": 4,
   "metadata": {},
   "outputs": [
    {
     "name": "stdout",
     "output_type": "stream",
     "text": [
      "Enter the number of elements of dictionary 1: 1\n",
      "Enter  key: 1\n",
      "Enter value100\n",
      "Enter the number of elements of dictionary 1: 2\n",
      "Enter  key: 2\n",
      "Enter value200\n",
      "Enter  key: 3\n",
      "Enter value300\n",
      "The merged dictionary is:  {'1': '100', '2': '200', '3': '300'}\n"
     ]
    }
   ],
   "source": [
    "#to merge  2 dictionaries\n",
    "d1={}\n",
    "d2={}\n",
    "d3={}\n",
    "n1=int(input(\"Enter the number of elements of dictionary 1: \"))\n",
    "for i in range(n1):\n",
    "    key=input(\"Enter  key: \")\n",
    "    value=input(\"Enter value\")\n",
    "    d1.update({key:value})\n",
    "    \n",
    "n2=int(input(\"Enter the number of elements of dictionary 2: \"))\n",
    "for i in range(n2):\n",
    "    k=input(\"Enter  key: \")\n",
    "    v=input(\"Enter value\")\n",
    "    d2.update({k:v})\n",
    "    \n",
    "d3.update(d1)\n",
    "d3.update(d2)\n",
    "\n",
    "print(\"The merged dictionary is: \",d3)\n",
    "\n",
    "    \n",
    "    \n"
   ]
  },
  {
   "cell_type": "code",
   "execution_count": 7,
   "metadata": {},
   "outputs": [
    {
     "name": "stdout",
     "output_type": "stream",
     "text": [
      "Enter the number of colors of list 1: 2\n",
      "Enter color: red\n",
      "Enter color: green\n",
      "Enter the number of colors of list 2: 2\n",
      "Enter color: red\n",
      "Enter color: black\n",
      "The list of colors only in list1 not on list 2:  ['green']\n"
     ]
    }
   ],
   "source": [
    "#color list\n",
    "l1=[]\n",
    "l2=[]\n",
    "\n",
    "n1=int(input(\"Enter the number of colors of list 1: \"))\n",
    "for i in range(n1):\n",
    "    clr1=input(\"Enter color: \")\n",
    "    l1.append(clr1)\n",
    "\n",
    "n2=int(input(\"Enter the number of colors of list 2: \")) \n",
    "for i in range(n2):\n",
    "    clr2=input(\"Enter color: \")\n",
    "    l2.append(clr2)\n",
    "    \n",
    "l3=[x for x in l1 if x not in l2]\n",
    "print(\"The list of colors only in list1 not on list 2: \",l3)\n",
    "    \n",
    "\n",
    "\n"
   ]
  },
  {
   "cell_type": "code",
   "execution_count": 3,
   "metadata": {},
   "outputs": [
    {
     "name": "stdout",
     "output_type": "stream",
     "text": [
      "Enter the number of elements: 3\n",
      "Enter  key: a\n",
      "Enter value10\n",
      "Enter  key: b\n",
      "Enter value5\n",
      "Enter  key: c\n",
      "Enter value20\n",
      "The dictionary values in ascending order:  ['10', '20', '5']\n",
      "The dictionary values in descending order:  ['5', '20', '10']\n"
     ]
    }
   ],
   "source": [
    "#to sort a dictionory\n",
    "d={}\n",
    "l=[]\n",
    "n=int(input(\"Enter the number of elements: \"))\n",
    "for i in range(n):\n",
    "    key=input(\"Enter  key: \")\n",
    "    value=input(\"Enter value\")\n",
    "    d.update({key:value})\n",
    "l=sorted(d.values())\n",
    "l2=sorted(d.values(),reverse=True)\n",
    "\n",
    "print(\"The dictionary values in ascending order: \",l[0:])\n",
    "print(\"The dictionary values in descending order: \",l2)"
   ]
  },
  {
   "cell_type": "code",
   "execution_count": null,
   "metadata": {
    "collapsed": true
   },
   "outputs": [],
   "source": []
  }
 ],
 "metadata": {
  "kernelspec": {
   "display_name": "Python 3",
   "language": "python",
   "name": "python3"
  },
  "language_info": {
   "codemirror_mode": {
    "name": "ipython",
    "version": 3
   },
   "file_extension": ".py",
   "mimetype": "text/x-python",
   "name": "python",
   "nbconvert_exporter": "python",
   "pygments_lexer": "ipython3",
   "version": "3.6.3"
  }
 },
 "nbformat": 4,
 "nbformat_minor": 2
}
