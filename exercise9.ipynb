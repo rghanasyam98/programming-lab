{
 "cells": [
  {
   "cell_type": "code",
   "execution_count": 16,
   "metadata": {},
   "outputs": [
    {
     "name": "stdout",
     "output_type": "stream",
     "text": [
      "Enter some coma seperated words: goodevening,good,bad\n",
      "The length of longest word : 11\n"
     ]
    }
   ],
   "source": [
    "#9.4\n",
    "#length of longest word\n",
    "l1=[]\n",
    "str1=input(\"Enter some coma seperated words: \")\n",
    "l=str1.split(\",\")\n",
    "for i in l:\n",
    "    l1.append(len(i))\n",
    "print(\"The length of longest word :\",max(l1))    \n",
    "    \n",
    "\n",
    "\n",
    "    "
   ]
  },
  {
   "cell_type": "code",
   "execution_count": 18,
   "metadata": {},
   "outputs": [
    {
     "name": "stdout",
     "output_type": "stream",
     "text": [
      "Enter a word: even\n",
      "The word before formating is : even\n",
      "The formated word is : evening\n"
     ]
    }
   ],
   "source": [
    "#9.3\n",
    "#ing string formating\n",
    "word=input(\"Enter a word: \")\n",
    "print(\"The word before formating is :\",word) \n",
    "#str1=word[-3]+word[-2]+word[-1]\n",
    "str1=word[-3:-1]\n",
    "if str1=='ing':\n",
    "    word=word+\"ly\"\n",
    "else:\n",
    "    word=word+\"ing\"\n",
    "print(\"The formated word is :\",word)    "
   ]
  },
  {
   "cell_type": "code",
   "execution_count": 20,
   "metadata": {},
   "outputs": [
    {
     "name": "stdout",
     "output_type": "stream",
     "text": [
      " Enter a 4 digit  Lower range:1000\n",
      "Enter a 4 digit higher range: 9999\n",
      "The required list is:  [4624, 6084, 6400, 8464]\n"
     ]
    }
   ],
   "source": [
    "#9.2\n",
    "#perfect square and 4 digit\n",
    "#l=list(map(int,input(\"Enter some coma seperated 4 d\")))\n",
    "import math\n",
    "n1=int(input(\" Enter a 4 digit  Lower range:\"))\n",
    "n2=int(input(\"Enter a 4 digit higher range: \"))\n",
    "\n",
    "l=[]\n",
    "x=0\n",
    "for i in range(n1,n2):\n",
    "    x=i\n",
    "    while x!=0:\n",
    "        k1=x%10\n",
    "        x=int(x/10)\n",
    "        k2=x%10\n",
    "        x=int(x/10)\n",
    "        k3=x%10\n",
    "        x=int(x/10)\n",
    "        k4=x%10\n",
    "        x=int(x/10)\n",
    "        sq=int(math.sqrt(i))\n",
    "        if sq*sq==i:\n",
    "            if k1%2==0 and k2%2==0 and k3%2==0 and k4%2==0:\n",
    "                l.append(i)\n",
    "            \n",
    "print(\"The required list is: \",l)        \n",
    "        \n",
    "\n"
   ]
  },
  {
   "cell_type": "code",
   "execution_count": null,
   "metadata": {},
   "outputs": [
    {
     "name": "stdout",
     "output_type": "stream",
     "text": [
      "\n",
      "1.SQUARE\n",
      "2.RECTANGLE\n",
      "3.TRIANGLE\n",
      "4.EXIT\n",
      "Enter any option: 1\n",
      "Enter side: 5\n",
      "AREA OF SQUARE :  25\n",
      "\n",
      "1.SQUARE\n",
      "2.RECTANGLE\n",
      "3.TRIANGLE\n",
      "4.EXIT\n",
      "Enter any option: 2\n",
      "Enter length: 4\n",
      "Enter breadth: 3\n",
      "AREA OF RECTANGLE :  12\n",
      "\n",
      "1.SQUARE\n",
      "2.RECTANGLE\n",
      "3.TRIANGLE\n",
      "4.EXIT\n",
      "Enter any option: 3\n",
      "Enter first side: 3\n",
      "Enter second side: 4\n",
      "Enter third side: 5\n",
      "AREA OF TRIANGLE:  6.0\n",
      "\n",
      "1.SQUARE\n",
      "2.RECTANGLE\n",
      "3.TRIANGLE\n",
      "4.EXIT\n"
     ]
    }
   ],
   "source": [
    "#area using lambda function\n",
    "sarea=lambda a: a*a\n",
    "\n",
    "rectarea=lambda a,b: a*b\n",
    "\n",
    "triarea=lambda a,b,c,s:(s*(s-a)*(s-b)*(s-c))**0.5\n",
    "                     \n",
    "while(1):\n",
    "    print(\"\\n1.SQUARE\\n2.RECTANGLE\\n3.TRIANGLE\\n4.EXIT\")\n",
    "    ch=int(input(\"Enter any option: \"))\n",
    "    if ch==1:\n",
    "        a=int(input(\"Enter side: \"))\n",
    "        print(\"AREA OF SQUARE : \",sarea(a))\n",
    "    elif ch==2:\n",
    "        a=int(input(\"Enter length: \"))\n",
    "        b=int(input(\"Enter breadth: \"))\n",
    "        print(\"AREA OF RECTANGLE : \",rectarea(a,b))\n",
    "       \n",
    "    elif ch==3:\n",
    "        a=int(input(\"Enter first side: \"))\n",
    "        b=int(input(\"Enter second side: \"))\n",
    "        c=int(input(\"Enter third side: \"))\n",
    "        s=(a+b+c)/2\n",
    "        print(\"AREA OF TRIANGLE: \",triarea(a,b,c,s))\n",
    "    else:\n",
    "        print(\"EXITING...\")\n",
    "        break\n",
    "        "
   ]
  },
  {
   "cell_type": "code",
   "execution_count": 16,
   "metadata": {},
   "outputs": [
    {
     "name": "stdout",
     "output_type": "stream",
     "text": [
      "0\n"
     ]
    }
   ],
   "source": []
  },
  {
   "cell_type": "code",
   "execution_count": 19,
   "metadata": {},
   "outputs": [
    {
     "name": "stdout",
     "output_type": "stream",
     "text": [
      " Enter a 4 digit  Lower range:1000\n",
      "Enter a 4 digit higher range: 9999\n",
      "4624\n",
      "6084\n",
      "6400\n",
      "8464\n"
     ]
    }
   ],
   "source": []
  },
  {
   "cell_type": "code",
   "execution_count": null,
   "metadata": {
    "collapsed": true
   },
   "outputs": [],
   "source": []
  }
 ],
 "metadata": {
  "kernelspec": {
   "display_name": "Python 3",
   "language": "python",
   "name": "python3"
  },
  "language_info": {
   "codemirror_mode": {
    "name": "ipython",
    "version": 3
   },
   "file_extension": ".py",
   "mimetype": "text/x-python",
   "name": "python",
   "nbconvert_exporter": "python",
   "pygments_lexer": "ipython3",
   "version": "3.6.3"
  }
 },
 "nbformat": 4,
 "nbformat_minor": 2
}
