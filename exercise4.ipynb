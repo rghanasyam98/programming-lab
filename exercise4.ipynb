{
 "cells": [
  {
   "cell_type": "code",
   "execution_count": 5,
   "metadata": {},
   "outputs": [
    {
     "name": "stdout",
     "output_type": "stream",
     "text": [
      "enter a string: tom\n",
      "the result is:  mot\n"
     ]
    }
   ],
   "source": [
    "#program to exchange first and last character\n",
    "str=input(\"enter a string: \")\n",
    "l=len(str)\n",
    "str=str[l-1]+str[1:l-1]+str[0]\n",
    "print(\"the result is: \",str)\n",
    "\n",
    "\n"
   ]
  },
  {
   "cell_type": "code",
   "execution_count": 4,
   "metadata": {},
   "outputs": [
    {
     "name": "stdout",
     "output_type": "stream",
     "text": [
      "enter a string: sachin\n",
      "the result is:  sain\n"
     ]
    }
   ],
   "source": [
    "#program to take first two and last of a string and create new string\n",
    "str=input(\"enter a string: \")\n",
    "l=len(str)\n",
    "n=str[0:2]+str[l-2:l]\n",
    "print(\"the result is: \",n)"
   ]
  },
  {
   "cell_type": "code",
   "execution_count": 3,
   "metadata": {},
   "outputs": [
    {
     "name": "stdout",
     "output_type": "stream",
     "text": [
      "enter first string: mohanlal\n",
      "enter second string: dileep\n",
      "the required format is:  dihanlal moileep\n"
     ]
    }
   ],
   "source": [
    "#program to format between two strings\n",
    "str1=input(\"enter first string: \")\n",
    "str2=input(\"enter second string: \")\n",
    "l1=len(str1)\n",
    "l2=len(str2)\n",
    "str3=str2[0:2]+str1[2:l1]+' '+str1[0:2]+str2[1:l2]\n",
    "print(\"the required format is: \",str3)\n"
   ]
  },
  {
   "cell_type": "code",
   "execution_count": 2,
   "metadata": {},
   "outputs": [
    {
     "name": "stdout",
     "output_type": "stream",
     "text": [
      "Enter a string: character\n",
      "The Result is:  chara$ter\n"
     ]
    }
   ],
   "source": [
    "#to change specified character expect first\n",
    "str=input(\"Enter a string: \")\n",
    "n=str.replace(str[0],\"$\")\n",
    "str1=str[0]+n[1:(len(n))]\n",
    "print(\"The Result is: \",str1)"
   ]
  },
  {
   "cell_type": "code",
   "execution_count": null,
   "metadata": {
    "collapsed": true
   },
   "outputs": [],
   "source": []
  },
  {
   "cell_type": "code",
   "execution_count": null,
   "metadata": {
    "collapsed": true
   },
   "outputs": [],
   "source": []
  }
 ],
 "metadata": {
  "kernelspec": {
   "display_name": "Python 3",
   "language": "python",
   "name": "python3"
  },
  "language_info": {
   "codemirror_mode": {
    "name": "ipython",
    "version": 3
   },
   "file_extension": ".py",
   "mimetype": "text/x-python",
   "name": "python",
   "nbconvert_exporter": "python",
   "pygments_lexer": "ipython3",
   "version": "3.6.3"
  }
 },
 "nbformat": 4,
 "nbformat_minor": 2
}
