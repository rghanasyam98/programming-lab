{
 "cells": [
  {
   "cell_type": "code",
   "execution_count": 1,
   "metadata": {},
   "outputs": [
    {
     "name": "stdout",
     "output_type": "stream",
     "text": [
      "Enter the source file name : sample.txt\n",
      "Enter the desination file name: sample2.txt\n",
      "File copied...\n"
     ]
    }
   ],
   "source": [
    "#11.1\n",
    "#program to copy a text file to another file\n",
    "file1=input(\"Enter the source file name : \")\n",
    "file2=input(\"Enter the desination file name: \")\n",
    "f1=open(file1,\"r\")\n",
    "f2=open(file2,\"w\")\n",
    "for line in f1.readlines():\n",
    "    f2.write(line)\n",
    "f1.close()\n",
    "f2.close()\n",
    "print(\"File copied...\")"
   ]
  },
  {
   "cell_type": "code",
   "execution_count": 2,
   "metadata": {},
   "outputs": [
    {
     "name": "stdout",
     "output_type": "stream",
     "text": [
      "Enter the source file name : sample.txt\n",
      "Enter the desination file name: sample3.txt\n",
      "File copied...\n"
     ]
    }
   ],
   "source": [
    "#11.1 another way\n",
    "file1=input(\"Enter the source file name : \")\n",
    "file2=input(\"Enter the desination file name: \")\n",
    "f1=open(file1,\"r\")\n",
    "f2=open(file2,\"w\")\n",
    "l=f1.readlines()\n",
    "f2.writelines(l)\n",
    "f1.close()\n",
    "f2.close()\n",
    "print(\"File copied...\")"
   ]
  },
  {
   "cell_type": "code",
   "execution_count": 1,
   "metadata": {},
   "outputs": [
    {
     "name": "stdout",
     "output_type": "stream",
     "text": [
      "Enter the  file name to append : sample.txt\n",
      "Enter the file name to be appended : sample3.txt\n",
      "File appended...\n"
     ]
    }
   ],
   "source": [
    "#11.2\n",
    "#append a file with another file\n",
    "file1=input(\"Enter the  file name to append : \")\n",
    "file2=input(\"Enter the file name to be appended : \")\n",
    "f2=open(file2,\"a+\")\n",
    "f1=open(file1,\"r\")\n",
    "l=f1.readlines()\n",
    "f2.writelines(l)\n",
    "f1.close()\n",
    "f2.close()\n",
    "print(\"File appended...\")\n",
    "\n"
   ]
  },
  {
   "cell_type": "code",
   "execution_count": 3,
   "metadata": {},
   "outputs": [
    {
     "name": "stdout",
     "output_type": "stream",
     "text": [
      "Enter the source file name : sample.txt\n",
      "3\n"
     ]
    }
   ],
   "source": [
    "#11.3\n",
    "#number of lines in a file\n",
    "l=[]\n",
    "file1=input(\"Enter the source file name : \")\n",
    "f1=open(file1,\"r\")\n",
    "for line in f1.readlines():\n",
    "    l.append(line)\n",
    "print(len(l))"
   ]
  },
  {
   "cell_type": "code",
   "execution_count": 4,
   "metadata": {},
   "outputs": [
    {
     "name": "stdout",
     "output_type": "stream",
     "text": [
      "Enter the source file name : sample.txt\n",
      "3\n"
     ]
    }
   ],
   "source": [
    "#11.3 other way\n",
    "c=0\n",
    "file1=input(\"Enter the source file name : \")\n",
    "f1=open(file1,\"r\")\n",
    "for line in f1.readlines():\n",
    "    c=c+1\n",
    "print(c)"
   ]
  },
  {
   "cell_type": "code",
   "execution_count": 6,
   "metadata": {},
   "outputs": [
    {
     "name": "stdout",
     "output_type": "stream",
     "text": [
      "Enter the source file name : sample3.txt\n",
      "Enter the desination file name: sample4.txt\n",
      "File copied...\n"
     ]
    }
   ],
   "source": [
    "#11.4\n",
    "#program to copy only odd files\n",
    "file1=input(\"Enter the source file name : \")\n",
    "file2=input(\"Enter the desination file name: \")\n",
    "f1=open(file1,\"r\")\n",
    "f2=open(file2,\"w\")\n",
    "i=0\n",
    "for line in f1.readlines():\n",
    "    i=i+1\n",
    "    if i%2 ==0:\n",
    "        continue\n",
    "    f2.write(line)\n",
    "f1.close()\n",
    "f2.close()\n",
    "print(\"File copied...\")"
   ]
  },
  {
   "cell_type": "code",
   "execution_count": 4,
   "metadata": {},
   "outputs": [
    {
     "name": "stdout",
     "output_type": "stream",
     "text": [
      "Enter the source csv file name : csv2.csv\n",
      "Enter coma seperated empid,empname,dptmnt,dob,salary1,aswin,sales,12jun21,25000\n",
      "{'empid': '1', 'empname': 'aswin', 'dptmnt': 'sales', 'dob': '12jun21', 'salary': '25000'}\n"
     ]
    }
   ],
   "source": [
    "#11.5\n",
    "#dictionary to csv\n",
    "\n",
    "import csv\n",
    "file1=input(\"Enter the source csv file name : \")\n",
    "with open(file1,\"a+\",newline='') as f1:\n",
    "    empdata=[\"empid\",\"empname\",\"dptmnt\",\"dob\",\"salary\"]\n",
    "    l=[]\n",
    "    writer=csv.DictWriter(f1,fieldnames=empdata)\n",
    "    writer.writeheader()\n",
    "    for i in range(1):\n",
    "        l=list(input(\"Enter coma seperated empid,empname,dptmnt,dob,salary\").split(\",\"))\n",
    "        writer.writerow({'empid':l[0],'empname':l[1],'dptmnt':l[2],'dob':l[3],'salary':l[4]})\n",
    "        l.clear()\n",
    "        \n",
    "with open(file1,'r') as f2:\n",
    "    rdr=csv.DictReader(f2)\n",
    "    for item in rdr:\n",
    "        print(dict(item))\n",
    "        "
   ]
  },
  {
   "cell_type": "code",
   "execution_count": null,
   "metadata": {
    "collapsed": true
   },
   "outputs": [],
   "source": []
  }
 ],
 "metadata": {
  "kernelspec": {
   "display_name": "Python 3",
   "language": "python",
   "name": "python3"
  },
  "language_info": {
   "codemirror_mode": {
    "name": "ipython",
    "version": 3
   },
   "file_extension": ".py",
   "mimetype": "text/x-python",
   "name": "python",
   "nbconvert_exporter": "python",
   "pygments_lexer": "ipython3",
   "version": "3.6.3"
  }
 },
 "nbformat": 4,
 "nbformat_minor": 2
}
