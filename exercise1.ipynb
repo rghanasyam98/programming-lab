{
 "cells": [
  {
   "cell_type": "code",
   "execution_count": 1,
   "metadata": {},
   "outputs": [
    {
     "name": "stdout",
     "output_type": "stream",
     "text": [
      "enter the length of side: 5\n",
      "area: 25\n"
     ]
    }
   ],
   "source": [
    "#program to find area of square\n",
    "a=input(\"enter the length of side: \")\n",
    "area=int(a)*int(a)\n",
    "print(\"area: \"+str(area))\n",
    "\n",
    "\n"
   ]
  },
  {
   "cell_type": "code",
   "execution_count": 2,
   "metadata": {},
   "outputs": [
    {
     "name": "stdout",
     "output_type": "stream",
     "text": [
      "enter base: 5\n",
      "enter height: 10\n",
      "area of right triangle: 25.0\n"
     ]
    }
   ],
   "source": [
    "#program to find area of right triangle\n",
    "l=input(\"enter base: \")\n",
    "h=input(\"enter height: \")\n",
    "area=int(l)*int(h)*0.5\n",
    "print(\"area of right triangle: \"+str(area))"
   ]
  },
  {
   "cell_type": "code",
   "execution_count": 3,
   "metadata": {},
   "outputs": [
    {
     "name": "stdout",
     "output_type": "stream",
     "text": [
      "enter name: ghanasyam\n",
      "hello, ghanasyam !\n"
     ]
    }
   ],
   "source": [
    "#program for greeting a person\n",
    "name=input(\"enter name: \")\n",
    "print(\"hello, \"+name+\" !\")"
   ]
  },
  {
   "cell_type": "code",
   "execution_count": 4,
   "metadata": {},
   "outputs": [
    {
     "name": "stdout",
     "output_type": "stream",
     "text": [
      "enter a number: 100\n",
      "previous: 99\n",
      "next: 101\n"
     ]
    }
   ],
   "source": [
    "#program for finding previous and next of a give number\n",
    "num=int(input(\"enter a number: \"))\n",
    "print(\"previous: \"+str(num-1))\n",
    "print(\"next: \"+str(num+1))\n"
   ]
  },
  {
   "cell_type": "code",
   "execution_count": 5,
   "metadata": {},
   "outputs": [
    {
     "name": "stdout",
     "output_type": "stream",
     "text": [
      "enter principle amount: 1000\n",
      "enter year of period: 1\n",
      "enter intrest percentage: 6\n",
      "intrst amount is: 60.0\n"
     ]
    }
   ],
   "source": [
    "#program to find the intrst amount\n",
    "p=float(input(\"enter principle amount: \"))\n",
    "n=int(input(\"enter year of period: \"))\n",
    "r=float(input(\"enter intrest percentage: \"))\n",
    "print(\"intrst amount is: \"+str(p*n*r*0.01))\n"
   ]
  },
  {
   "cell_type": "code",
   "execution_count": null,
   "metadata": {
    "collapsed": true
   },
   "outputs": [],
   "source": []
  }
 ],
 "metadata": {
  "kernelspec": {
   "display_name": "Python 3",
   "language": "python",
   "name": "python3"
  },
  "language_info": {
   "codemirror_mode": {
    "name": "ipython",
    "version": 3
   },
   "file_extension": ".py",
   "mimetype": "text/x-python",
   "name": "python",
   "nbconvert_exporter": "python",
   "pygments_lexer": "ipython3",
   "version": "3.6.3"
  }
 },
 "nbformat": 4,
 "nbformat_minor": 2
}
