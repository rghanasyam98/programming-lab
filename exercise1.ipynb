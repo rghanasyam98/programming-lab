{
 "cells": [
  {
   "cell_type": "code",
   "execution_count": null,
   "metadata": {},
   "outputs": [],
   "source": [
    "#program to find area of square\n",
    "a=input(\"enter the length of side: \")\n",
    "area=int(a)*int(a)\n",
    "print(\"area: \"+str(area))\n",
    "\n",
    "\n"
   ]
  },
  {
   "cell_type": "code",
   "execution_count": null,
   "metadata": {
    "collapsed": true
   },
   "outputs": [],
   "source": [
    "#program to find area of right triangle\n",
    "l=input(\"enter base: \")\n",
    "h=input(\"enter height: \")\n",
    "area=int(l)*int(h)*0.5\n",
    "print(\"area of right triangle: \"+str(area))"
   ]
  },
  {
   "cell_type": "code",
   "execution_count": null,
   "metadata": {
    "collapsed": true
   },
   "outputs": [],
   "source": [
    "#program for greeting a person\n",
    "name=input(\"enter name: \")\n",
    "print(\"hello, \"+name+\" !\")"
   ]
  },
  {
   "cell_type": "code",
   "execution_count": null,
   "metadata": {
    "collapsed": true
   },
   "outputs": [],
   "source": [
    "#program for finding previous and next of a give number\n",
    "num=int(input(\"enter a number: \"))\n",
    "print(\"previous: \"+str(num-1))\n",
    "print(\"next: \"+str(num+1))\n"
   ]
  },
  {
   "cell_type": "code",
   "execution_count": null,
   "metadata": {
    "collapsed": true
   },
   "outputs": [],
   "source": [
    "#program to find the intrst amount\n",
    "p=float(input(\"enter principle amount: \"))\n",
    "n=int(input(\"enter year of period: \"))\n",
    "r=float(input(\"enter intrest percentage: \"))\n",
    "print(\"intrst amount is: \"+str(p*n*r*0.01))\n"
   ]
  }
 ],
 "metadata": {
  "kernelspec": {
   "display_name": "Python 3",
   "language": "python",
   "name": "python3"
  },
  "language_info": {
   "codemirror_mode": {
    "name": "ipython",
    "version": 3
   },
   "file_extension": ".py",
   "mimetype": "text/x-python",
   "name": "python",
   "nbconvert_exporter": "python",
   "pygments_lexer": "ipython3",
   "version": "3.6.3"
  }
 },
 "nbformat": 4,
 "nbformat_minor": 2
}
