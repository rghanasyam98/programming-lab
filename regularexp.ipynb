{
 "cells": [
  {
   "cell_type": "code",
   "execution_count": 9,
   "metadata": {},
   "outputs": [],
   "source": [
    "import re\n",
    "m=re.match('foo','seafood')#no match\n",
    "if m!=None:\n",
    "    print(m.group())\n",
    "    "
   ]
  },
  {
   "cell_type": "code",
   "execution_count": 4,
   "metadata": {},
   "outputs": [
    {
     "name": "stdout",
     "output_type": "stream",
     "text": [
      "foo\n"
     ]
    }
   ],
   "source": [
    "import re\n",
    "m=re.search('foo','seafood')#use search insted\n",
    "if m!=None:\n",
    "    print(m.group())"
   ]
  },
  {
   "cell_type": "code",
   "execution_count": 10,
   "metadata": {},
   "outputs": [
    {
     "data": {
      "text/plain": [
       "'foo'"
      ]
     },
     "execution_count": 10,
     "metadata": {},
     "output_type": "execute_result"
    }
   ],
   "source": [
    "m=re.match('foo','food on the table')#match suceeds\n",
    "m.group()"
   ]
  },
  {
   "cell_type": "code",
   "execution_count": 11,
   "metadata": {},
   "outputs": [
    {
     "name": "stdout",
     "output_type": "stream",
     "text": [
      "['2255']\n"
     ]
    }
   ],
   "source": [
    "#findall\n",
    "import re\n",
    "a=\"my phone number is 2255\"\n",
    "print(re.findall(\"\\d+\",a))"
   ]
  },
  {
   "cell_type": "code",
   "execution_count": 13,
   "metadata": {},
   "outputs": [
    {
     "name": "stdout",
     "output_type": "stream",
     "text": [
      "19/07/1998\n"
     ]
    }
   ],
   "source": [
    "import re\n",
    "a=\"19-07-1998\"\n",
    "r=re.sub(\"\\D+\",\"/\",a)\n",
    "print(r)"
   ]
  },
  {
   "cell_type": "code",
   "execution_count": 16,
   "metadata": {},
   "outputs": [
    {
     "name": "stdout",
     "output_type": "stream",
     "text": [
      "ghanasyam\n",
      "\n",
      "abin\n",
      "\n",
      "sreehari\n",
      "\n",
      "siyan\n",
      "\n",
      "athira\n",
      "\n"
     ]
    }
   ],
   "source": [
    "import re\n",
    "file=open(\"sample4.txt\",\"r\")\n",
    "text=file.readlines()\n",
    "file.close()\n",
    "keyword=re.compile('a')\n",
    "for line in text:\n",
    "    if keyword.search(line):\n",
    "        print(line)"
   ]
  },
  {
   "cell_type": "code",
   "execution_count": 17,
   "metadata": {},
   "outputs": [
    {
     "name": "stdout",
     "output_type": "stream",
     "text": [
      "the king\n",
      "\n",
      "thermometer\n"
     ]
    }
   ],
   "source": [
    "#to display lines containing the\n",
    "import re\n",
    "file=open(\"sample4.txt\",\"r\")\n",
    "text=file.readlines()\n",
    "file.close()\n",
    "keyword=re.compile('the')\n",
    "for line in text:\n",
    "    if keyword.search(line):\n",
    "        print(line)"
   ]
  },
  {
   "cell_type": "code",
   "execution_count": 18,
   "metadata": {},
   "outputs": [
    {
     "name": "stdout",
     "output_type": "stream",
     "text": [
      "the king\n",
      "\n",
      "thermometer\n",
      "\n",
      "THE car\n",
      "\n"
     ]
    }
   ],
   "source": [
    "#to display lines containing the case in sensitive\n",
    "import re\n",
    "file=open(\"sample4.txt\",\"r\")\n",
    "text=file.readlines()\n",
    "file.close()\n",
    "keyword=re.compile('the',re.I)\n",
    "for line in text:\n",
    "    if keyword.search(line):\n",
    "        print(line)"
   ]
  },
  {
   "cell_type": "code",
   "execution_count": 19,
   "metadata": {},
   "outputs": [
    {
     "name": "stdout",
     "output_type": "stream",
     "text": [
      "28-2-2022\n",
      "\n"
     ]
    }
   ],
   "source": [
    "#check date pattern\n",
    "import re\n",
    "file=open(\"sample4.txt\",\"r\")\n",
    "text=file.readlines()\n",
    "file.close()\n",
    "keyword=re.compile('\\d\\d?-\\d\\d?-\\d\\d')\n",
    "for line in text:\n",
    "    if keyword.search(line):\n",
    "        print(line)"
   ]
  },
  {
   "cell_type": "code",
   "execution_count": null,
   "metadata": {
    "collapsed": true
   },
   "outputs": [],
   "source": []
  }
 ],
 "metadata": {
  "kernelspec": {
   "display_name": "Python 3",
   "language": "python",
   "name": "python3"
  },
  "language_info": {
   "codemirror_mode": {
    "name": "ipython",
    "version": 3
   },
   "file_extension": ".py",
   "mimetype": "text/x-python",
   "name": "python",
   "nbconvert_exporter": "python",
   "pygments_lexer": "ipython3",
   "version": "3.6.3"
  }
 },
 "nbformat": 4,
 "nbformat_minor": 2
}
