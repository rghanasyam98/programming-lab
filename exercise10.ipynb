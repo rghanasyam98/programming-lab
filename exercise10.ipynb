{
 "cells": [
  {
   "cell_type": "code",
   "execution_count": null,
   "metadata": {},
   "outputs": [
    {
     "name": "stdout",
     "output_type": "stream",
     "text": [
      "\n",
      "1.CIRCLE\n",
      "2.RECTANGLE\n",
      "3.EXIT\n"
     ]
    }
   ],
   "source": []
  },
  {
   "cell_type": "code",
   "execution_count": 4,
   "metadata": {},
   "outputs": [
    {
     "name": "stdout",
     "output_type": "stream",
     "text": [
      "\n",
      "1.CIRCLE\n",
      "2.RECTANGLE\n",
      "3.EXIT\n",
      "Enter any option: 1\n",
      "Enter radius: 5\n",
      "AREA OF CIRCLE :  78.53981633974483 \n",
      "PERIMETER OF CIRCLE:  31.41592653589793\n",
      "\n",
      "1.CIRCLE\n",
      "2.RECTANGLE\n",
      "3.EXIT\n",
      "Enter any option: 2\n",
      "Enter length: 5\n",
      "Enter breadth: 5\n",
      "AREA OF RECTANGLE :  25 \n",
      "PERIMETER OF RECTANGLE:  20\n",
      "\n",
      "1.CIRCLE\n",
      "2.RECTANGLE\n",
      "3.EXIT\n",
      "Enter any option: 3\n",
      "EXITING...\n"
     ]
    }
   ],
   "source": [
    "#area of circle and rectangle using module\n",
    "import circleex10\n",
    "from rectangleex10 import*\n",
    "\n",
    "\n",
    "while(1):\n",
    "    print(\"\\n1.CIRCLE\\n2.RECTANGLE\\n3.EXIT\")\n",
    "    ch=int(input(\"Enter any option: \"))\n",
    "    if ch==1:\n",
    "        r=int(input(\"Enter radius: \"))\n",
    "        carea=circleex10.cirarea(r)\n",
    "        cper=circleex10.cirperimeter(r)\n",
    "        print(\"AREA OF CIRCLE : \",carea,\"\\nPERIMETER OF CIRCLE: \",cper)\n",
    "    elif ch==2:\n",
    "        a=int(input(\"Enter length: \"))\n",
    "        b=int(input(\"Enter breadth: \"))\n",
    "        rarea=rectarea(a,b)\n",
    "        rper=rectperimeter(a,b)\n",
    "        print(\"AREA OF RECTANGLE : \",rarea,\"\\nPERIMETER OF RECTANGLE: \",rper)\n",
    "    else:\n",
    "        print(\"EXITING...\")\n",
    "        break\n",
    "    \n",
    "        "
   ]
  },
  {
   "cell_type": "code",
   "execution_count": null,
   "metadata": {
    "collapsed": true
   },
   "outputs": [],
   "source": []
  },
  {
   "cell_type": "code",
   "execution_count": null,
   "metadata": {
    "collapsed": true
   },
   "outputs": [],
   "source": []
  },
  {
   "cell_type": "code",
   "execution_count": null,
   "metadata": {
    "collapsed": true
   },
   "outputs": [],
   "source": []
  },
  {
   "cell_type": "code",
   "execution_count": 2,
   "metadata": {},
   "outputs": [
    {
     "name": "stdout",
     "output_type": "stream",
     "text": [
      "Current date:  2022-01-07\n",
      "Date before 5 days:  2022-01-02\n"
     ]
    }
   ],
   "source": [
    "#10.2.1\n",
    "#date before 5 days\n",
    "from datetime import datetime,timedelta\n",
    "cd=datetime.now()\n",
    "print(\"Current date: \",cd.date())\n",
    "d5=cd-timedelta(days=5)\n",
    "print(\"Date before 5 days: \",d5.date())"
   ]
  },
  {
   "cell_type": "code",
   "execution_count": 4,
   "metadata": {},
   "outputs": [
    {
     "name": "stdout",
     "output_type": "stream",
     "text": [
      "Date of yesterday:  2022-01-05\n",
      "Date of today:  2022-01-06\n",
      "Date of tomorrow:  2022-01-07\n"
     ]
    }
   ],
   "source": [
    "#10.2.2\n",
    "#yesterday,today,tomorrow\n",
    "from datetime import datetime,timedelta\n",
    "cd=datetime.now()\n",
    "ys=cd-timedelta(days=1)\n",
    "tw=cd+timedelta(days=1)\n",
    "print(\"Date of yesterday: \",ys.date())\n",
    "print(\"Date of today: \",cd.date())\n",
    "print(\"Date of tomorrow: \",tw.date())\n"
   ]
  },
  {
   "cell_type": "code",
   "execution_count": 10,
   "metadata": {},
   "outputs": [
    {
     "name": "stdout",
     "output_type": "stream",
     "text": [
      "day  1 : 2022-01-06\n",
      "day  2 : 2022-01-07\n",
      "day  3 : 2022-01-08\n",
      "day  4 : 2022-01-09\n",
      "day  5 : 2022-01-10\n"
     ]
    }
   ],
   "source": [
    "#10.2.3\n",
    "#next 5 days\n",
    "from datetime import datetime,timedelta\n",
    "#import datetime\n",
    "\n",
    "cd=datetime.now()\n",
    "#cd=datetime.date.today()\n",
    "for i in range(0,5):\n",
    "    ys=cd+timedelta(days=i)\n",
    "    print(\"day \",i+1,\":\" ,ys.date())\n",
    "    "
   ]
  },
  {
   "cell_type": "code",
   "execution_count": 9,
   "metadata": {},
   "outputs": [
    {
     "name": "stdout",
     "output_type": "stream",
     "text": [
      "Enter date1(yyyy-mm-dd): 2000-04-12\n",
      "2000-04-12\n",
      "Enter date2(yyyy-mm-dd): 2022-01-06\n",
      "2022-01-06\n",
      "The number of days between entered dates:  7939\n"
     ]
    }
   ],
   "source": [
    "#10.2.4\n",
    "#days between 2 given dates\n",
    "from datetime import datetime,timedelta\n",
    " \n",
    "strdate1 = str(input('Enter date1(yyyy-mm-dd): '))\n",
    "ddate1 = datetime.strptime(strdate1, \"%Y-%m-%d\")\n",
    "\n",
    " \n",
    "print(ddate1.date())\n",
    "\n",
    "strdate2 = str(input('Enter date2(yyyy-mm-dd): '))\n",
    "ddate2 = datetime.strptime(strdate2, \"%Y-%m-%d\")\n",
    " \n",
    "print(ddate2.date())\n",
    "\n",
    "d3=ddate2-ddate1\n",
    "print(\"The number of days between entered dates: \",d3.days)\n",
    "\n"
   ]
  },
  {
   "cell_type": "code",
   "execution_count": 2,
   "metadata": {},
   "outputs": [
    {
     "name": "stdout",
     "output_type": "stream",
     "text": [
      "\n",
      "1.CIRCLE\n",
      "2.RECTANGLE\n",
      "3.CUBOID\n",
      "4.SPHERE\n",
      "5.EXIT\n",
      "Enter any option: 2\n",
      "Enter length: 5\n",
      "Enter breadth: 5\n",
      "AREA OF RECTANGLE :  25 \n",
      "PERIMETER OF RECTANGLE:  20\n",
      "\n",
      "1.CIRCLE\n",
      "2.RECTANGLE\n",
      "3.CUBOID\n",
      "4.SPHERE\n",
      "5.EXIT\n",
      "Enter any option: 1\n",
      "Enter radius: 5\n",
      "AREA OF CIRCLE :  78.53981633974483 \n",
      "PERIMETER OF CIRCLE:  31.41592653589793\n",
      "\n",
      "1.CIRCLE\n",
      "2.RECTANGLE\n",
      "3.CUBOID\n",
      "4.SPHERE\n",
      "5.EXIT\n",
      "Enter any option: 3\n",
      "Enter length: 5\n",
      "Enter breadth: 5\n",
      "Enter height: 5\n",
      "SURFACE AREA OF CUBOID :  150 \n",
      "PERIMETER OF CUBOID:  60\n",
      "\n",
      "1.CIRCLE\n",
      "2.RECTANGLE\n",
      "3.CUBOID\n",
      "4.SPHERE\n",
      "5.EXIT\n",
      "Enter any option: 4\n",
      "Enter the radius: 5\n",
      "CIRCUMFERENCE OF SPHERE :  31.41592653589793 \n",
      "SURFACE AREA OF SPHERE:  314.1592653589793\n",
      "\n",
      "1.CIRCLE\n",
      "2.RECTANGLE\n",
      "3.CUBOID\n",
      "4.SPHERE\n",
      "5.EXIT\n",
      "Enter any option: 5\n",
      "EXITING...\n"
     ]
    }
   ],
   "source": [
    "#example of package program\n",
    "import graphics.circle\n",
    "import graphics.rectangle\n",
    "from graphics.graphics3d.cuboid import *\n",
    "from graphics.graphics3d.sphere import *\n",
    "while(1):\n",
    "    print(\"\\n1.CIRCLE\\n2.RECTANGLE\\n3.CUBOID\\n4.SPHERE\\n5.EXIT\")\n",
    "    ch=int(input(\"Enter any option: \"))\n",
    "    if ch==1:\n",
    "        r=int(input(\"Enter radius: \"))\n",
    "        carea=graphics.circle.cirarea(r)\n",
    "        cper=graphics.circle.cirperimeter(r)\n",
    "        print(\"AREA OF CIRCLE : \",carea,\"\\nPERIMETER OF CIRCLE: \",cper)\n",
    "    elif ch==2:\n",
    "        a=int(input(\"Enter length: \"))\n",
    "        b=int(input(\"Enter breadth: \"))\n",
    "        rarea=graphics.rectangle.rectarea(a,b)\n",
    "        rper=graphics.rectangle.rectperimeter(a,b)\n",
    "        print(\"AREA OF RECTANGLE : \",rarea,\"\\nPERIMETER OF RECTANGLE: \",rper)\n",
    "    elif ch==3:\n",
    "        l=int(input(\"Enter length: \"))\n",
    "        br=int(input(\"Enter breadth: \"))\n",
    "        h=int(input(\"Enter height: \"))\n",
    "        cubarea=cuboidsurarea(l,br,h)\n",
    "        cubper=cuboidper(l,br,h)\n",
    "        print(\"SURFACE AREA OF CUBOID : \",cubarea,\"\\nPERIMETER OF CUBOID: \",cubper)\n",
    "    elif ch==4:\n",
    "        r1=int(input(\"Enter the radius: \"))\n",
    "        spcircum=spherecircum(r1)\n",
    "        spsurarea=spheresurarea(r1)\n",
    "        print(\"CIRCUMFERENCE OF SPHERE : \",spcircum,\"\\nSURFACE AREA OF SPHERE: \",spsurarea)\n",
    "    else:\n",
    "        print(\"EXITING...\")\n",
    "        break\n",
    "    "
   ]
  },
  {
   "cell_type": "markdown",
   "metadata": {
    "collapsed": true
   },
   "source": [
    "# "
   ]
  }
 ],
 "metadata": {
  "kernelspec": {
   "display_name": "Python 3",
   "language": "python",
   "name": "python3"
  },
  "language_info": {
   "codemirror_mode": {
    "name": "ipython",
    "version": 3
   },
   "file_extension": ".py",
   "mimetype": "text/x-python",
   "name": "python",
   "nbconvert_exporter": "python",
   "pygments_lexer": "ipython3",
   "version": "3.6.3"
  }
 },
 "nbformat": 4,
 "nbformat_minor": 2
}
