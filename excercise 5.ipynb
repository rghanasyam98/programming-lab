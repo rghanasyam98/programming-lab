{
 "cells": [
  {
   "cell_type": "code",
   "execution_count": 2,
   "metadata": {},
   "outputs": [
    {
     "name": "stdout",
     "output_type": "stream",
     "text": [
      "enter a comma seperated sequence of numbers: 1,2,3,4\n",
      "result is:  ['1', '2', '3', '4']\n"
     ]
    }
   ],
   "source": [
    "#coma seperated numbers to list\n",
    "str=input(\"Enter a comma seperated sequence of numbers: \")\n",
    "x=str.split(\",\")\n",
    "print(\"Result is: \",x)\n"
   ]
  },
  {
   "cell_type": "code",
   "execution_count": 4,
   "metadata": {},
   "outputs": [
    {
     "name": "stdout",
     "output_type": "stream",
     "text": [
      "enter some comma seperated list of colours: red,green,blue,black\n",
      "the first element is:  red\n",
      "the last element is:  black\n"
     ]
    }
   ],
   "source": [
    "#coma seperated colors to string\n",
    "clr=input(\"Enter some comma seperated list of colours: \")\n",
    "res=clr.split(\",\")\n",
    "print(\"The first element is: \",res[0])\n",
    "print(\"The last element is: \",res[-1])"
   ]
  },
  {
   "cell_type": "code",
   "execution_count": 5,
   "metadata": {},
   "outputs": [
    {
     "name": "stdout",
     "output_type": "stream",
     "text": [
      "enter a file with extention: sum.java\n",
      "the extention of the entered file is:  java\n"
     ]
    }
   ],
   "source": [
    "#to print extention of a file\n",
    "f=input(\"Enter a file with extention: \")\n",
    "x=f.split(\".\")\n",
    "print(\"The extention of the entered file is: \",x[-1])"
   ]
  },
  {
   "cell_type": "code",
   "execution_count": 13,
   "metadata": {},
   "outputs": [
    {
     "name": "stdout",
     "output_type": "stream",
     "text": [
      "Enter a string: character\n",
      "The Result is:  chara$ter\n"
     ]
    }
   ],
   "source": [
    "#to change specified character expect first\n",
    "str=input(\"Enter a string: \")\n",
    "n=str.replace(str[0],\"$\")\n",
    "str1=str[0]+n[1:(len(n))]\n",
    "print(\"The Result is: \",str1)"
   ]
  },
  {
   "cell_type": "code",
   "execution_count": null,
   "metadata": {
    "collapsed": true
   },
   "outputs": [],
   "source": []
  }
 ],
 "metadata": {
  "kernelspec": {
   "display_name": "Python 3",
   "language": "python",
   "name": "python3"
  },
  "language_info": {
   "codemirror_mode": {
    "name": "ipython",
    "version": 3
   },
   "file_extension": ".py",
   "mimetype": "text/x-python",
   "name": "python",
   "nbconvert_exporter": "python",
   "pygments_lexer": "ipython3",
   "version": "3.6.3"
  }
 },
 "nbformat": 4,
 "nbformat_minor": 2
}
