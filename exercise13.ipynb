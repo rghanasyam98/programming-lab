{
 "cells": [
  {
   "cell_type": "code",
   "execution_count": 4,
   "metadata": {},
   "outputs": [
    {
     "name": "stdout",
     "output_type": "stream",
     "text": [
      "Enter first number: 10\n",
      "Enter second number: 5\n",
      "Result:  2.0\n",
      "Successfully Computed..\n"
     ]
    }
   ],
   "source": [
    "#13.1\n",
    "#zero divsion excption program\n",
    "try:\n",
    "    a=int(input(\"Enter first number: \"))\n",
    "    b=int(input(\"Enter second number: \"))\n",
    "    c=a/b\n",
    "    print(\"Result: \",c)\n",
    "except ZeroDivisionError as arg:\n",
    "    print(\"Math Error..\",arg)\n",
    "except ValueError as arg2:\n",
    "    print(\"Inappropriate Input..\",arg2)\n",
    "else:\n",
    "    print(\"Successfully Computed..\")\n",
    "    \n",
    "\n",
    "    "
   ]
  },
  {
   "cell_type": "code",
   "execution_count": 1,
   "metadata": {},
   "outputs": [
    {
     "name": "stdout",
     "output_type": "stream",
     "text": [
      "Enter a Number: 10\n",
      "Right answer..\n",
      "SUCCESS...\n"
     ]
    }
   ],
   "source": [
    "#13.2\n",
    "#user defined exception\n",
    "\n",
    "class myexp(Exception):\n",
    "    pass\n",
    "class leastexp(myexp):\n",
    "    pass\n",
    "class highexp(myexp):\n",
    "    pass\n",
    "\n",
    "k=10\n",
    "while True:\n",
    "    try:\n",
    "        n=int(input(\"Enter a Number: \"))\n",
    "        if n<k:\n",
    "            raise leastexp\n",
    "        elif n>k:\n",
    "            raise highexp\n",
    "        else:\n",
    "            print(\"Right answer..\")\n",
    "    except leastexp:\n",
    "        print(\"Smaller..\")\n",
    "    except highexp:\n",
    "        print(\"Bigger...\")\n",
    "    else:\n",
    "        print(\"SUCCESS...\")\n",
    "        break\n",
    "            \n",
    "        "
   ]
  },
  {
   "cell_type": "code",
   "execution_count": null,
   "metadata": {
    "collapsed": true
   },
   "outputs": [],
   "source": []
  }
 ],
 "metadata": {
  "kernelspec": {
   "display_name": "Python 3",
   "language": "python",
   "name": "python3"
  },
  "language_info": {
   "codemirror_mode": {
    "name": "ipython",
    "version": 3
   },
   "file_extension": ".py",
   "mimetype": "text/x-python",
   "name": "python",
   "nbconvert_exporter": "python",
   "pygments_lexer": "ipython3",
   "version": "3.6.3"
  }
 },
 "nbformat": 4,
 "nbformat_minor": 2
}
