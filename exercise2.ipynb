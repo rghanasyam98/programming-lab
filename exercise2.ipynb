{
 "cells": [
  {
   "cell_type": "code",
   "execution_count": 2,
   "metadata": {},
   "outputs": [
    {
     "name": "stdout",
     "output_type": "stream",
     "text": [
      "enter a number: 3\n",
      "result is: 369\n"
     ]
    }
   ],
   "source": [
    "#program to compute n+nn+nnn\n",
    "num=int(input(\"enter a number: \"))\n",
    "k1=num+((num*10)+num)+(((num*100)+(num*10)+num))\n",
    "print(\"result is: \"+str(k1))\n",
    "                    "
   ]
  },
  {
   "cell_type": "code",
   "execution_count": 3,
   "metadata": {},
   "outputs": [
    {
     "name": "stdout",
     "output_type": "stream",
     "text": [
      "enter the radius: 5\n",
      "area of circle: 78.53981633974483\n"
     ]
    }
   ],
   "source": [
    "#program to find area of a circle\n",
    "import math\n",
    "r=float(input(\"enter the radius: \"))\n",
    "area=math.pi*r*r\n",
    "print(\"area of circle: \"+str(area))\n"
   ]
  },
  {
   "cell_type": "code",
   "execution_count": 4,
   "metadata": {},
   "outputs": [
    {
     "name": "stdout",
     "output_type": "stream",
     "text": [
      "enter a number: 3\n",
      "369\n"
     ]
    }
   ],
   "source": [
    "#program to compute n+nn+nnn\n",
    "num=int(input(\"enter a number: \"))\n",
    "k=num*(1+11+111)\n",
    "print(k)"
   ]
  },
  {
   "cell_type": "code",
   "execution_count": null,
   "metadata": {
    "collapsed": true
   },
   "outputs": [],
   "source": []
  }
 ],
 "metadata": {
  "kernelspec": {
   "display_name": "Python 3",
   "language": "python",
   "name": "python3"
  },
  "language_info": {
   "codemirror_mode": {
    "name": "ipython",
    "version": 3
   },
   "file_extension": ".py",
   "mimetype": "text/x-python",
   "name": "python",
   "nbconvert_exporter": "python",
   "pygments_lexer": "ipython3",
   "version": "3.6.3"
  }
 },
 "nbformat": 4,
 "nbformat_minor": 2
}
