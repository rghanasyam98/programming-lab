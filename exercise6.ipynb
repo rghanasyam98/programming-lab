{
 "cells": [
  {
   "cell_type": "code",
   "execution_count": 34,
   "metadata": {},
   "outputs": [
    {
     "name": "stdout",
     "output_type": "stream",
     "text": [
      "Enter any non negative number: 6\n",
      "factorial of number  6  is:  720\n"
     ]
    }
   ],
   "source": [
    "#factorial of a given number\n",
    "num=int(input(\"Enter any non negative number: \"))\n",
    "if num==0:\n",
    "    print(\"You entered zero and zero complement is one...\")\n",
    "else:\n",
    "    temp=num\n",
    "    f=1\n",
    "    while temp>0:\n",
    "        f=f*temp\n",
    "        temp=temp-1\n",
    "    print(\"factorial of number \",num,\" is: \",f)        "
   ]
  },
  {
   "cell_type": "code",
   "execution_count": 38,
   "metadata": {},
   "outputs": [
    {
     "name": "stdout",
     "output_type": "stream",
     "text": [
      "Enter the limit of fibonacii series :10\n",
      "Fibonaci series upto  10 terms are: \n",
      "0 1 1 2 3 5 8 13 21 34 "
     ]
    }
   ],
   "source": [
    "#fibnocii series of n terms\n",
    "n=int(input(\"Enter the limit of fibonacii series :\"))\n",
    "a=c=d=0\n",
    "b=1\n",
    "print(\"Fibonaci series upto \",n,\"terms are: \")\n",
    "while d<=n-1:\n",
    "    print(c,\"\",end=\"\")\n",
    "    a=b\n",
    "    b=c\n",
    "    c=a+b\n",
    "    d=d+1"
   ]
  },
  {
   "cell_type": "code",
   "execution_count": 1,
   "metadata": {},
   "outputs": [
    {
     "name": "stdout",
     "output_type": "stream",
     "text": [
      "Enter first number:  12\n",
      "Enter second number: 9\n",
      "The greatest common divisor of  12  and  9  is:  3\n"
     ]
    }
   ],
   "source": [
    "#greatest common divisor of two numbers\n",
    "num1=int(input(\"Enter first number:  \"))\n",
    "num2=int(input(\"Enter second number: \"))\n",
    "if num1<num2:\n",
    "    m=num1\n",
    "else:\n",
    "    m=num2\n",
    "while m>0:\n",
    "    if (num1%m==0) and (num2%m==0):\n",
    "        print(\"The greatest common divisor of \",num1,\" and \",num2,\" is: \",m)\n",
    "        break\n",
    "    m=m-1    \n",
    "    \n",
    "    "
   ]
  },
  {
   "cell_type": "code",
   "execution_count": 12,
   "metadata": {},
   "outputs": [
    {
     "name": "stdout",
     "output_type": "stream",
     "text": [
      "Enter Some comma seperated numbers:  1,2,3,4,5\n",
      "Sum of elememts of list  ['1', '2', '3', '4', '5']  is:  15\n"
     ]
    }
   ],
   "source": [
    "#sum of all items in a list\n",
    "str=input(\"Enter Some comma seperated numbers:  \")\n",
    "l=str.split(\",\")\n",
    "s=i=0\n",
    "for i in l:\n",
    "    s=s+int(i)\n",
    "print(\"Sum of elememts of list \",l,\" is: \",s)    \n",
    "\n",
    "\n",
    "\n",
    "\n",
    "\n"
   ]
  },
  {
   "cell_type": "code",
   "execution_count": 14,
   "metadata": {},
   "outputs": [
    {
     "name": "stdout",
     "output_type": "stream",
     "text": [
      "Enter a number: 4\n",
      "The required pyramid is: \n",
      "1  \n",
      "\n",
      "2  4  \n",
      "\n",
      "3  6  9  \n",
      "\n",
      "4  8  12  16  \n",
      "\n"
     ]
    }
   ],
   "source": [
    "#pyramid of multiples\n",
    "n=int(input(\"Enter a number: \"))\n",
    "print(\"The required pyramid is: \")\n",
    "for i in range(1,n+1):\n",
    "    for j in range(1,i+1):\n",
    "        print(i*j,\" \",end=\"\")\n",
    "    print(\"\\n\")\n",
    "    \n",
    "    "
   ]
  },
  {
   "cell_type": "code",
   "execution_count": 36,
   "metadata": {},
   "outputs": [
    {
     "name": "stdout",
     "output_type": "stream",
     "text": [
      "Enter a string: CRICKET\n",
      "The frequency of the characters of the entered string is: \n",
      "C- 2\n",
      "R- 1\n",
      "I- 1\n",
      "K- 1\n",
      "E- 1\n",
      "T- 1\n"
     ]
    }
   ],
   "source": [
    "#frequency of characters of a string\n",
    "str=input(\"Enter a string: \" )\n",
    "l=len(str)\n",
    "temp=str\n",
    "f=[None]*l\n",
    "for i in range(l):\n",
    "    f[i]=1\n",
    "    for j in range(i+1,l):\n",
    "        if temp[i]==temp[j]:\n",
    "            f[i]=f[i]+1\n",
    "            temp=temp[:j]+'0'+temp[j+1:]\n",
    "print(\"The frequency of the characters of the entered string is: \")\n",
    "for i in range(0,len(f)):\n",
    "    if(temp[i]!='' and temp[i]!='0'):\n",
    "        print(temp[i]+\"-\",f[i]);\n",
    "\n",
    "\n"
   ]
  },
  {
   "cell_type": "code",
   "execution_count": 17,
   "metadata": {},
   "outputs": [
    {
     "name": "stdout",
     "output_type": "stream",
     "text": [
      "Enter a number: 16\n",
      "The factors of the given number  16  are: \n",
      "16  8  4  2  1  "
     ]
    }
   ],
   "source": [
    "#factors of a given number\n",
    "num=int(input(\"Enter a number: \"))\n",
    "i=num\n",
    "print(\"The factors of the given number \",num,\" are: \")\n",
    "while i>0:\n",
    "    if num%i==0:\n",
    "        print(i,\" \",end=\"\")\n",
    "    i=i-1\n",
    "    \n",
    "    "
   ]
  },
  {
   "cell_type": "code",
   "execution_count": 33,
   "metadata": {},
   "outputs": [
    {
     "name": "stdout",
     "output_type": "stream",
     "text": [
      "* \n",
      "\n",
      "* * \n",
      "\n",
      "* * * \n",
      "\n",
      "* * * * \n",
      "\n",
      "* * * * * \n",
      "\n",
      "* * * * \n",
      "\n",
      "* * * \n",
      "\n",
      "* * \n",
      "\n",
      "* \n",
      "\n"
     ]
    }
   ],
   "source": [
    "#star pattern\n",
    "\n",
    "for i in range(0,4):\n",
    "    \n",
    "    for j in range(0,i+1):\n",
    "        print(\"* \",end=\"\")\n",
    "    print(\"\\n\")\n",
    "for i in range(4,-1,-1):\n",
    "    for j in range(0,i+1):\n",
    "        print(\"* \",end=\"\")\n",
    "    print(\"\\n\")  \n"
   ]
  },
  {
   "cell_type": "code",
   "execution_count": null,
   "metadata": {
    "collapsed": true
   },
   "outputs": [],
   "source": []
  },
  {
   "cell_type": "code",
   "execution_count": null,
   "metadata": {
    "collapsed": true
   },
   "outputs": [],
   "source": []
  }
 ],
 "metadata": {
  "kernelspec": {
   "display_name": "Python 3",
   "language": "python",
   "name": "python3"
  },
  "language_info": {
   "codemirror_mode": {
    "name": "ipython",
    "version": 3
   },
   "file_extension": ".py",
   "mimetype": "text/x-python",
   "name": "python",
   "nbconvert_exporter": "python",
   "pygments_lexer": "ipython3",
   "version": "3.6.3"
  }
 },
 "nbformat": 4,
 "nbformat_minor": 2
}
