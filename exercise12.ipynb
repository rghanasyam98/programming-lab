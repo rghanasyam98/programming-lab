{
 "cells": [
  {
   "cell_type": "code",
   "execution_count": 1,
   "id": "610d9e38",
   "metadata": {},
   "outputs": [
    {
     "name": "stdout",
     "output_type": "stream",
     "text": [
      "ENTER LENGTH OF FIRST RECTANGLE:10\n",
      "ENTER BREADTH OF FIRST RECTANGLE: 5\n",
      "ENTER LENGTH OF SECOND RECTANGLE:5\n",
      "ENTER BREADTH OF SECOND RECTANGLE:5\n",
      "PERIMETER OF FIRST:  30\n",
      "PERIMETER OF SECOND:  20\n",
      "FIRST RECTANGLE IS LARGER IN AREA AND THE DIFFERENCE IS, 25\n"
     ]
    }
   ],
   "source": [
    "#12.1\n",
    "#area of rectangle using class and object\n",
    "class Rectangle:\n",
    "    def area(self,l,b):\n",
    "        return l*b\n",
    "    def pmtr(self,l,b):\n",
    "        return (l+b)*2\n",
    "\n",
    "r1=Rectangle()\n",
    "r2=Rectangle()\n",
    "\n",
    "l1=int(input(\"ENTER LENGTH OF FIRST RECTANGLE:\" ))\n",
    "b1=int(input(\"ENTER BREADTH OF FIRST RECTANGLE: \"))\n",
    "\n",
    "l2=int(input(\"ENTER LENGTH OF SECOND RECTANGLE:\" ))\n",
    "b2=int(input(\"ENTER BREADTH OF SECOND RECTANGLE:\" ))\n",
    "\n",
    "print(\"PERIMETER OF FIRST: \",r1.pmtr(l1,b1))\n",
    "print(\"PERIMETER OF SECOND: \",r1.pmtr(l2,b2))\n",
    "\n",
    "a1=r1.area(l1,b1)\n",
    "a2=r2.area(l2,b2)\n",
    "\n",
    "if a1>a2:\n",
    "    print(\"FIRST RECTANGLE IS LARGER IN AREA AND THE DIFFERENCE IS,\",(a1-a2))\n",
    "else:\n",
    "    print(\"SECOND RECTANGLE IS LARGER IN AREA AND THE DIFFERENCE IS,\",(a2-a1))\n"
   ]
  },
  {
   "cell_type": "code",
   "execution_count": 4,
   "id": "6bb4490c",
   "metadata": {},
   "outputs": [
    {
     "name": "stdout",
     "output_type": "stream",
     "text": [
      "Enter name: Ghanasyam\n",
      "Enter roll no: 11\n",
      "Enter cls: 10\n",
      "ROLL NO,NAME,CLASS=>  11 , Ghanasyam , 10\n"
     ]
    }
   ],
   "source": [
    "#12.2\n",
    "#details of student using constructor\n",
    "class student:\n",
    "    def __init__(self,r,n,c):\n",
    "        self.rno=r\n",
    "        self.name=n\n",
    "        self.cls=c\n",
    "    def disp(self):\n",
    "        print(\"ROLL NO,NAME,CLASS=> \",self.rno,\",\",self.name,\",\",self.cls)\n",
    "nm=input(\"Enter name: \")\n",
    "rn=int(input(\"Enter roll no: \"))\n",
    "cl=int(input(\"Enter cls: \"))\n",
    "stud=student(rn,nm,cl)\n",
    "stud.disp()\n"
   ]
  },
  {
   "cell_type": "code",
   "execution_count": null,
   "id": "ecdf6c47",
   "metadata": {},
   "outputs": [],
   "source": []
  }
 ],
 "metadata": {
  "kernelspec": {
   "display_name": "Python 3",
   "language": "python",
   "name": "python3"
  },
  "language_info": {
   "codemirror_mode": {
    "name": "ipython",
    "version": 3
   },
   "file_extension": ".py",
   "mimetype": "text/x-python",
   "name": "python",
   "nbconvert_exporter": "python",
   "pygments_lexer": "ipython3",
   "version": "3.8.8"
  }
 },
 "nbformat": 4,
 "nbformat_minor": 5
}
